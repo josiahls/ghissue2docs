{
 "cells": [
  {
   "cell_type": "code",
   "execution_count": 1,
   "metadata": {},
   "outputs": [],
   "source": [
    "# hide\n",
    "from nbdev.showdoc import *\n",
    "from nbdev.imports import *\n",
    "if not os.environ.get(\"IN_TEST\", None):\n",
    "    assert IN_NOTEBOOK\n",
    "    assert not IN_COLAB\n",
    "    assert IN_IPYTHON"
   ]
  },
  {
   "cell_type": "markdown",
   "metadata": {},
   "source": [
    "# ghissue2docs\n",
    "\n",
    "> Converting github issues into local markdown files or notebooks for integrating into documentation."
   ]
  },
  {
   "cell_type": "markdown",
   "metadata": {},
   "source": [
    "## Install\n",
    "Just run `pip install ghissue2docs`!\n",
    "\n",
    "## How to Simple"
   ]
  },
  {
   "cell_type": "code",
   "execution_count": 2,
   "metadata": {},
   "outputs": [],
   "source": [
    "from ghissue2docs.core import *\n",
    "from fastcore.all import *"
   ]
  },
  {
   "cell_type": "markdown",
   "metadata": {},
   "source": [
    "Run the `gh auth login` command. to get access to your project.\n",
    "\n",
    "Then get all the documentation tagged issues..."
   ]
  },
  {
   "cell_type": "code",
   "execution_count": 3,
   "metadata": {},
   "outputs": [
    {
     "data": {
      "text/plain": [
       "[{'assignees': [],\n",
       "  'author': {'login': 'josiahls'},\n",
       "  'body': 'This is an example documentation issue\\r\\n\\r\\nBelow is a picture!\\r\\n![image](https://user-images.githubusercontent.com/19930483/146814046-fc69bf3f-bc6a-41d4-9971-146b5884ee55.png)\\r\\n',\n",
       "  'id': 'I_kwDOGj3YrM5ArPed',\n",
       "  'title': 'Examples.Test Documentation Issue!',\n",
       "  'url': 'https://github.com/josiahls/ghissue2docs/issues/1'}]"
      ]
     },
     "execution_count": 3,
     "metadata": {},
     "output_type": "execute_result"
    }
   ],
   "source": [
    "got_issues=get_issues('documentation');got_issues"
   ]
  },
  {
   "cell_type": "markdown",
   "metadata": {},
   "source": [
    "Ok! So we have a list of issues, now we can make a simple loop to (for example) display \n",
    "all the issues in the jekyll server (via nbdev)!"
   ]
  },
  {
   "cell_type": "code",
   "execution_count": 4,
   "metadata": {},
   "outputs": [],
   "source": [
    "for issue in got_issues:\n",
    "    out=issue2txt(issue)\n",
    "    issue2ipynb(*out,Path('.'))"
   ]
  },
  {
   "cell_type": "code",
   "execution_count": 3,
   "metadata": {},
   "outputs": [
    {
     "name": "stdout",
     "output_type": "stream",
     "text": [
      "converting /home/ghissue2docs_user/ghissue2docs/nbs/index.ipynb to README.md\n",
      "Converted 00_core.ipynb.\n",
      "Converted 99_Examples.I_kwDOGj3YrM5ArPed.ipynb.\n",
      "Converted 99_I_kwDOGj3YrM5ArPed.ipynb.\n",
      "Converted index.ipynb.\n",
      "converting: /home/ghissue2docs_user/ghissue2docs/nbs/index.ipynb\n"
     ]
    }
   ],
   "source": [
    "# hide\n",
    "from nbdev.export import *\n",
    "from nbdev.export2html import *\n",
    "from nbdev.cli import make_readme\n",
    "make_readme()\n",
    "notebook2script()\n",
    "notebook2html()"
   ]
  },
  {
   "cell_type": "code",
   "execution_count": null,
   "metadata": {},
   "outputs": [],
   "source": []
  }
 ],
 "metadata": {
  "kernelspec": {
   "display_name": "Python 3 (ipykernel)",
   "language": "python",
   "name": "python3"
  },
  "language_info": {
   "codemirror_mode": {
    "name": "ipython",
    "version": 3
   },
   "file_extension": ".py",
   "mimetype": "text/x-python",
   "name": "python",
   "nbconvert_exporter": "python",
   "pygments_lexer": "ipython3",
   "version": "3.9.5"
  }
 },
 "nbformat": 4,
 "nbformat_minor": 4
}
