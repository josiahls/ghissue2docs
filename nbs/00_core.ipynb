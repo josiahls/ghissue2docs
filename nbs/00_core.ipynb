{
 "cells": [
  {
   "cell_type": "code",
   "execution_count": 1,
   "id": "offshore-stuart",
   "metadata": {},
   "outputs": [],
   "source": [
    "# default_exp core"
   ]
  },
  {
   "cell_type": "code",
   "execution_count": 2,
   "id": "assisted-contract",
   "metadata": {},
   "outputs": [],
   "source": [
    "# export\n",
    "# Python native modules\n",
    "import os,json\n",
    "from typing import *\n",
    "# Third party libs\n",
    "from fastcore.all import *\n",
    "import nbformat\n",
    "# Local modules\n",
    "\n",
    "IN_NOTEBOOK=False"
   ]
  },
  {
   "cell_type": "code",
   "execution_count": 3,
   "id": "viral-cambridge",
   "metadata": {},
   "outputs": [],
   "source": [
    "# hide\n",
    "from fastcore.imports import in_colab\n",
    "# Since colab still requires tornado<6, we don't want to import nbdev if we don't have to\n",
    "if not in_colab():\n",
    "    from nbdev.showdoc import *\n",
    "    from nbdev.imports import *\n",
    "    if not os.environ.get(\"IN_TEST\", None):\n",
    "        assert IN_NOTEBOOK\n",
    "        assert not IN_COLAB\n",
    "        assert IN_IPYTHON\n"
   ]
  },
  {
   "cell_type": "markdown",
   "id": "lesser-innocent",
   "metadata": {},
   "source": [
    "# CLI\n",
    "> ghissue2docs primarly is just a cli. This will allow you to pull issues and generate either md, or jupternotebooks\n",
    "for usage with nbdev or auto-documentation tools that injest mds."
   ]
  },
  {
   "cell_type": "markdown",
   "id": "ad71c052-7f01-47a4-bf05-3b67c56ee79c",
   "metadata": {},
   "source": [
    "Note for the below functions to run properly, you need to use the `gh auth login` command."
   ]
  },
  {
   "cell_type": "code",
   "execution_count": 4,
   "id": "99517d6a-95a7-4b82-8e3b-b9b851941b69",
   "metadata": {},
   "outputs": [],
   "source": [
    "# export\n",
    "def get_issues(label=None)->dict:\n",
    "    json_cmd='--json assignees,author,body,title,url,id'\n",
    "    if label is None: out=run(f'gh issue list {json_cmd}',stderr=True)  \n",
    "    else:             out=run(f'gh issue list -l {label} {json_cmd}',stderr=True)\n",
    "    return json.loads(out)"
   ]
  },
  {
   "cell_type": "code",
   "execution_count": 5,
   "id": "75c0a731-7aa8-43b4-8de8-a77bd3a25cd0",
   "metadata": {},
   "outputs": [
    {
     "data": {
      "text/plain": [
       "[{'assignees': [],\n",
       "  'author': {'login': 'josiahls'},\n",
       "  'body': 'This is an example documentation issue\\r\\n\\r\\nBelow is a picture!\\r\\n![image](https://user-images.githubusercontent.com/19930483/146814046-fc69bf3f-bc6a-41d4-9971-146b5884ee55.png)\\r\\n',\n",
       "  'id': 'I_kwDOGj3YrM5ArPed',\n",
       "  'title': 'Examples.Test Documentation Issue!',\n",
       "  'url': 'https://github.com/josiahls/ghissue2docs/issues/1'}]"
      ]
     },
     "execution_count": 5,
     "metadata": {},
     "output_type": "execute_result"
    }
   ],
   "source": [
    "get_issues('documentation')"
   ]
  },
  {
   "cell_type": "code",
   "execution_count": 4,
   "id": "5d6019f0-8b6b-4554-8e22-9acef1fd941d",
   "metadata": {},
   "outputs": [],
   "source": [
    "test_issue=[{'assignees': [],\n",
    "  'author': {'login': 'josiahls'},\n",
    "  'body': 'This is an example documentation issue\\r\\n\\r\\nBelow is a picture!\\r\\n![image](https://user-images.githubusercontent.com/19930483/146814046-fc69bf3f-bc6a-41d4-9971-146b5884ee55.png)\\r\\n',\n",
    "  'id': 'I_kwDOGj3YrM5ArPed',\n",
    "  'title': 'Examples.Test Documentation Issue!',\n",
    "  'url': 'https://github.com/josiahls/ghissue2docs/issues/1'}]\n",
    "\n",
    "test_issue_no_nest=[{'assignees': [],\n",
    "  'author': {'login': 'josiahls'},\n",
    "  'body': 'This is an example documentation issue\\r\\n\\r\\nBelow is a picture!\\r\\n![image](https://user-images.githubusercontent.com/19930483/146814046-fc69bf3f-bc6a-41d4-9971-146b5884ee55.png)\\r\\n',\n",
    "  'id': 'I_kwDOGj3YrM5ArPed',\n",
    "  'title': 'Test Documentation Issue!',\n",
    "  'url': 'https://github.com/josiahls/ghissue2docs/issues/1'}]"
   ]
  },
  {
   "cell_type": "code",
   "execution_count": 5,
   "id": "b88fed40-7997-462a-9004-fc074d0485b5",
   "metadata": {},
   "outputs": [],
   "source": [
    "# export\n",
    "_image_not_loading=\"Oh No! You should not be seeing this! Make sure you're logged into github if the repo is private!\"\n",
    "\n",
    "def issue2txt(issue:Dict)->Tuple[List[str],List[str],str]:\n",
    "    nests=issue['title'].split('.')[:-1]\n",
    "    sections=[\n",
    "f\"\"\"# {issue['title'].split('.')[-1]}\\n\"\"\",\n",
    "f\"\"\"Issue [#{issue['url'].split('/')[-1]}]({issue['url']})<br>\n",
    "Author: @{issue['author']['login']}\n",
    "<hr>\n",
    "{issue['body'].replace('![image]','<br>!['+_image_not_loading+']')}\n",
    "\"\"\"\n",
    "]\n",
    "    if IN_NOTEBOOK:\n",
    "        from IPython.display import display, Markdown, Latex\n",
    "        display(Markdown('<br>'.join(sections)))\n",
    "    return sections,issue['id'],nests\n",
    "    "
   ]
  },
  {
   "cell_type": "code",
   "execution_count": 6,
   "id": "0f07f53b-c297-4173-8b69-219b024d009b",
   "metadata": {},
   "outputs": [
    {
     "data": {
      "text/markdown": [
       "# Test Documentation Issue!\n",
       "<br>Issue [#1](https://github.com/josiahls/ghissue2docs/issues/1)<br>\n",
       "Author: @josiahls\n",
       "<hr>\n",
       "This is an example documentation issue\r\n",
       "\r\n",
       "Below is a picture!\r\n",
       "<br>![Oh No! You should not be seeing this! Make sure you're logged into github if the repo is private!](https://user-images.githubusercontent.com/19930483/146814046-fc69bf3f-bc6a-41d4-9971-146b5884ee55.png)\r\n",
       "\n"
      ],
      "text/plain": [
       "<IPython.core.display.Markdown object>"
      ]
     },
     "metadata": {},
     "output_type": "display_data"
    },
    {
     "data": {
      "text/plain": [
       "(['# Test Documentation Issue!\\n',\n",
       "  \"Issue [#1](https://github.com/josiahls/ghissue2docs/issues/1)<br>\\nAuthor: @josiahls\\n<hr>\\nThis is an example documentation issue\\r\\n\\r\\nBelow is a picture!\\r\\n<br>![Oh No! You should not be seeing this! Make sure you're logged into github if the repo is private!](https://user-images.githubusercontent.com/19930483/146814046-fc69bf3f-bc6a-41d4-9971-146b5884ee55.png)\\r\\n\\n\"],\n",
       " 'I_kwDOGj3YrM5ArPed',\n",
       " [])"
      ]
     },
     "execution_count": 6,
     "metadata": {},
     "output_type": "execute_result"
    }
   ],
   "source": [
    "issue2txt(test_issue_no_nest[0])"
   ]
  },
  {
   "cell_type": "code",
   "execution_count": 7,
   "id": "672d62ac-f7a1-4621-b768-f0d1d58d8be2",
   "metadata": {},
   "outputs": [
    {
     "data": {
      "text/markdown": [
       "# Test Documentation Issue!\n",
       "<br>Issue [#1](https://github.com/josiahls/ghissue2docs/issues/1)<br>\n",
       "Author: @josiahls\n",
       "<hr>\n",
       "This is an example documentation issue\r\n",
       "\r\n",
       "Below is a picture!\r\n",
       "<br>![Oh No! You should not be seeing this! Make sure you're logged into github if the repo is private!](https://user-images.githubusercontent.com/19930483/146814046-fc69bf3f-bc6a-41d4-9971-146b5884ee55.png)\r\n",
       "\n"
      ],
      "text/plain": [
       "<IPython.core.display.Markdown object>"
      ]
     },
     "metadata": {},
     "output_type": "display_data"
    },
    {
     "data": {
      "text/plain": [
       "(['# Test Documentation Issue!\\n',\n",
       "  \"Issue [#1](https://github.com/josiahls/ghissue2docs/issues/1)<br>\\nAuthor: @josiahls\\n<hr>\\nThis is an example documentation issue\\r\\n\\r\\nBelow is a picture!\\r\\n<br>![Oh No! You should not be seeing this! Make sure you're logged into github if the repo is private!](https://user-images.githubusercontent.com/19930483/146814046-fc69bf3f-bc6a-41d4-9971-146b5884ee55.png)\\r\\n\\n\"],\n",
       " 'I_kwDOGj3YrM5ArPed',\n",
       " ['Examples'])"
      ]
     },
     "execution_count": 7,
     "metadata": {},
     "output_type": "execute_result"
    }
   ],
   "source": [
    "issue2txt(test_issue[0])"
   ]
  },
  {
   "cell_type": "code",
   "execution_count": 8,
   "id": "2995407c-6393-4bc3-8b28-2fd1fb898a3b",
   "metadata": {},
   "outputs": [],
   "source": [
    "# export\n",
    "def issue2markdown(text:List[str],issueid:str,nesting:List[str]=None,to:Path=Path('.')):\n",
    "    if nesting is not None:\n",
    "        for n in nesting: to/=n\n",
    "    to/=f'{issueid}.md'\n",
    "    to.mk_write('\\n'.join(text))\n",
    "    return to"
   ]
  },
  {
   "cell_type": "code",
   "execution_count": 9,
   "id": "242e16c4-b5c9-4bf5-a2dd-085189814afc",
   "metadata": {},
   "outputs": [
    {
     "data": {
      "text/markdown": [
       "# Test Documentation Issue!\n",
       "<br>Issue [#1](https://github.com/josiahls/ghissue2docs/issues/1)<br>\n",
       "Author: @josiahls\n",
       "<hr>\n",
       "This is an example documentation issue\r\n",
       "\r\n",
       "Below is a picture!\r\n",
       "<br>![Oh No! You should not be seeing this! Make sure you're logged into github if the repo is private!](https://user-images.githubusercontent.com/19930483/146814046-fc69bf3f-bc6a-41d4-9971-146b5884ee55.png)\r\n",
       "\n"
      ],
      "text/plain": [
       "<IPython.core.display.Markdown object>"
      ]
     },
     "metadata": {},
     "output_type": "display_data"
    }
   ],
   "source": [
    "txt,issueid,nests=issue2txt(test_issue[0])"
   ]
  },
  {
   "cell_type": "code",
   "execution_count": 10,
   "id": "7456d3d5-cfdf-41ef-9c89-eee17068150f",
   "metadata": {},
   "outputs": [
    {
     "data": {
      "text/plain": [
       "Path('Examples/I_kwDOGj3YrM5ArPed.md')"
      ]
     },
     "execution_count": 10,
     "metadata": {},
     "output_type": "execute_result"
    }
   ],
   "source": [
    "out_path=issue2markdown(txt,issueid,nests,Path('.'));out_path"
   ]
  },
  {
   "cell_type": "code",
   "execution_count": 11,
   "id": "ea1b23ab-e2d3-41cb-92b1-3bc26440aca9",
   "metadata": {},
   "outputs": [
    {
     "name": "stdout",
     "output_type": "stream",
     "text": [
      "Contents of Examples/I_kwDOGj3YrM5ArPed.md\n",
      "# Test Documentation Issue!\n",
      "\n",
      "Issue [#1](https://github.com/josiahls/ghissue2docs/issues/1)<br>\n",
      "Author: @josiahls\n",
      "<hr>\n",
      "This is an example documentation issue\n",
      "\n",
      "Below is a picture!\n",
      "<br>![Oh No! You should not be seeing this! Make sure you're logged into github if the repo is private!](https://user-images.githubusercontent.com/19930483/146814046-fc69bf3f-bc6a-41d4-9971-146b5884ee55.png)\n",
      "\n",
      "\n"
     ]
    }
   ],
   "source": [
    "print(f'Contents of {out_path}')\n",
    "print(Path(out_path).read_text())"
   ]
  },
  {
   "cell_type": "code",
   "execution_count": 12,
   "id": "979e6d5f-9c8a-421e-8607-2c657f5d7093",
   "metadata": {},
   "outputs": [],
   "source": [
    "# export\n",
    "def issue2ipynb(text:List[str],issueid:str,nesting:List[str]=None,to:Path=Path('.')):\n",
    "    if nesting is not None:\n",
    "        for n in nesting: to/=n\n",
    "    if nesting: to=f'{99}_{\".\".join(nesting)}.{issueid}.ipynb'\n",
    "    else:       to=f'{99}_{issueid}.ipynb'\n",
    "    \n",
    "    nb=nbformat.v4.new_notebook()\n",
    "    \n",
    "    title_cell=nbformat.v4.new_markdown_cell(text[0])\n",
    "    if len(text)<1: other_cells=[]  \n",
    "    else:           other_cells=[nbformat.v4.new_markdown_cell(s) for s in text[1:]] \n",
    "    \n",
    "    nb['cells']=[title_cell]+other_cells\n",
    "    nbformat.write(nb,to)\n",
    "    return to"
   ]
  },
  {
   "cell_type": "code",
   "execution_count": 13,
   "id": "cda0dacd-3026-44a4-a423-0f5c932de7d6",
   "metadata": {},
   "outputs": [
    {
     "data": {
      "text/plain": [
       "'99_I_kwDOGj3YrM5ArPed.ipynb'"
      ]
     },
     "execution_count": 13,
     "metadata": {},
     "output_type": "execute_result"
    }
   ],
   "source": [
    "out_path=issue2ipynb(txt,issueid,[],Path('.'));out_path"
   ]
  },
  {
   "cell_type": "code",
   "execution_count": 14,
   "id": "current-pilot",
   "metadata": {},
   "outputs": [
    {
     "name": "stdout",
     "output_type": "stream",
     "text": [
      "converting /home/ghissue2docs_user/ghissue2docs/nbs/index.ipynb to README.md\n",
      "Converted 00_core.ipynb.\n",
      "Converted 99_Examples.I_kwDOGj3YrM5ArPed.ipynb.\n",
      "Converted 99_I_kwDOGj3YrM5ArPed.ipynb.\n",
      "Converted index.ipynb.\n",
      "converting: /home/ghissue2docs_user/ghissue2docs/nbs/00_core.ipynb\n",
      "converting: /home/ghissue2docs_user/ghissue2docs/nbs/99_I_kwDOGj3YrM5ArPed.ipynb\n"
     ]
    }
   ],
   "source": [
    "# hide\n",
    "from fastcore.imports import in_colab\n",
    "\n",
    "# Since colab still requires tornado<6, we don't want to import nbdev if we don't have to\n",
    "if not in_colab():\n",
    "    from nbdev.export import *\n",
    "    from nbdev.export2html import *\n",
    "    from nbdev.cli import make_readme\n",
    "    make_readme()\n",
    "    notebook2script()\n",
    "    notebook2html()"
   ]
  },
  {
   "cell_type": "code",
   "execution_count": null,
   "id": "1ba29fa7-fbfc-4e04-b246-93e1851811df",
   "metadata": {},
   "outputs": [],
   "source": []
  }
 ],
 "metadata": {
  "kernelspec": {
   "display_name": "Python 3 (ipykernel)",
   "language": "python",
   "name": "python3"
  },
  "language_info": {
   "codemirror_mode": {
    "name": "ipython",
    "version": 3
   },
   "file_extension": ".py",
   "mimetype": "text/x-python",
   "name": "python",
   "nbconvert_exporter": "python",
   "pygments_lexer": "ipython3",
   "version": "3.9.5"
  }
 },
 "nbformat": 4,
 "nbformat_minor": 5
}
