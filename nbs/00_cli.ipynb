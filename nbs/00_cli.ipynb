{
 "cells": [
  {
   "cell_type": "code",
   "execution_count": null,
   "id": "viral-cambridge",
   "metadata": {},
   "outputs": [],
   "source": [
    "# hide\n",
    "from fastcore.imports import in_colab\n",
    "# Since colab still requires tornado<6, we don't want to import nbdev if we don't have to\n",
    "if not in_colab():\n",
    "    from nbdev.showdoc import *\n",
    "    from nbdev.imports import *\n",
    "    if not os.environ.get(\"IN_TEST\", None):\n",
    "        assert IN_NOTEBOOK\n",
    "        assert not IN_COLAB\n",
    "        assert IN_IPYTHON\n"
   ]
  },
  {
   "cell_type": "code",
   "execution_count": 1,
   "id": "offshore-stuart",
   "metadata": {},
   "outputs": [],
   "source": [
    "# default_exp cli"
   ]
  },
  {
   "cell_type": "code",
   "execution_count": 3,
   "id": "assisted-contract",
   "metadata": {},
   "outputs": [],
   "source": [
    "# export\n",
    "# Python native modules\n",
    "import os,json\n",
    "# Third party libs\n",
    "from fastcore.all import *\n",
    "# Local modules"
   ]
  },
  {
   "cell_type": "markdown",
   "id": "lesser-innocent",
   "metadata": {},
   "source": [
    "# CLI\n",
    "> ghissue2docs primarly is just a cli. This will allow you to pull issues and generate either md, or jupternotebooks\n",
    "for usage with nbdev or auto-documentation tools that injest mds."
   ]
  },
  {
   "cell_type": "code",
   "execution_count": 13,
   "id": "99517d6a-95a7-4b82-8e3b-b9b851941b69",
   "metadata": {},
   "outputs": [],
   "source": [
    "# export\n",
    "def get_issues(label=None)->dict:\n",
    "    json_cmd='--json assignees,author,body,title,url,id'\n",
    "    if label is None: out=run(f'gh issue list {json_cmd}',stderr=True)  \n",
    "    else:             out=run(f'gh issue list -l {label} {json_cmd}',stderr=True)\n",
    "    return json.loads(out)"
   ]
  },
  {
   "cell_type": "code",
   "execution_count": 14,
   "id": "75c0a731-7aa8-43b4-8de8-a77bd3a25cd0",
   "metadata": {},
   "outputs": [
    {
     "data": {
      "text/plain": [
       "[{'assignees': [],\n",
       "  'author': {'login': 'josiahls'},\n",
       "  'body': 'This is an example documentation issue\\r\\n\\r\\nBelow is a picture!\\r\\n![image](https://user-images.githubusercontent.com/19930483/146814046-fc69bf3f-bc6a-41d4-9971-146b5884ee55.png)\\r\\n',\n",
       "  'id': 'I_kwDOGj3YrM5ArPed',\n",
       "  'title': 'Examples.Test Documentation Issue!',\n",
       "  'url': 'https://github.com/josiahls/ghissue2docs/issues/1'}]"
      ]
     },
     "execution_count": 14,
     "metadata": {},
     "output_type": "execute_result"
    }
   ],
   "source": [
    "get_issues('documentation')"
   ]
  },
  {
   "cell_type": "markdown",
   "id": "e03d4521-6c40-465a-8922-f99a0dbefce6",
   "metadata": {},
   "source": [
    "Note: I think we first want a single text representation before moving to md/jupyter"
   ]
  },
  {
   "cell_type": "code",
   "execution_count": 12,
   "id": "b88fed40-7997-462a-9004-fc074d0485b5",
   "metadata": {},
   "outputs": [],
   "source": [
    "# export\n",
    "def issue2md(issue:Dict,to:Path):pass\n",
    "    "
   ]
  },
  {
   "cell_type": "code",
   "execution_count": null,
   "id": "current-pilot",
   "metadata": {},
   "outputs": [
    {
     "name": "stdout",
     "output_type": "stream",
     "text": [
      "converting /home/fastrl_user/fastrl/nbs/index.ipynb to README.md\n",
      "Converted .data.block_old.ipynb.\n",
      "Converted 00_core.ipynb.\n",
      "Converted 00_nbdev_extension.ipynb.\n",
      "Converted 05_data.block.ipynb.\n",
      "Converted 05_data.test_async.ipynb.\n",
      "Converted 20_test_utils.ipynb.\n",
      "Converted index.ipynb.\n",
      "Converted nbdev_template.ipynb.\n",
      "converting: /home/fastrl_user/fastrl/nbs/nbdev_template.ipynb\n"
     ]
    }
   ],
   "source": [
    "# hide\n",
    "from fastcore.imports import in_colab\n",
    "\n",
    "# Since colab still requires tornado<6, we don't want to import nbdev if we don't have to\n",
    "if not in_colab():\n",
    "    from nbdev.export import *\n",
    "    from nbdev.export2html import *\n",
    "    from nbdev.cli import make_readme\n",
    "    make_readme()\n",
    "    notebook2script()\n",
    "    notebook2html()"
   ]
  }
 ],
 "metadata": {
  "kernelspec": {
   "display_name": "Python 3 (ipykernel)",
   "language": "python",
   "name": "python3"
  },
  "language_info": {
   "codemirror_mode": {
    "name": "ipython",
    "version": 3
   },
   "file_extension": ".py",
   "mimetype": "text/x-python",
   "name": "python",
   "nbconvert_exporter": "python",
   "pygments_lexer": "ipython3",
   "version": "3.9.5"
  }
 },
 "nbformat": 4,
 "nbformat_minor": 5
}
