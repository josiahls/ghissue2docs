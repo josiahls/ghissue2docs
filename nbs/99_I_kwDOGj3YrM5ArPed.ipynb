{
 "cells": [
  {
   "cell_type": "markdown",
   "id": "470a0cf9",
   "metadata": {},
   "source": [
    "# Test Documentation Issue!\n"
   ]
  },
  {
   "cell_type": "markdown",
   "id": "5ad86019",
   "metadata": {},
   "source": [
    "Issue [#1](https://github.com/josiahls/ghissue2docs/issues/1)<br>\n",
    "Author: @josiahls\n",
    "<hr>\n",
    "This is an example documentation issue\r\n",
    "\r\n",
    "Below is a picture!\r\n",
    "<br>![Oh No! You should not be seeing this! Make sure you're logged into github if the repo is private!](https://user-images.githubusercontent.com/19930483/146814046-fc69bf3f-bc6a-41d4-9971-146b5884ee55.png)\r\n",
    "\n"
   ]
  }
 ],
 "metadata": {},
 "nbformat": 4,
 "nbformat_minor": 5
}
